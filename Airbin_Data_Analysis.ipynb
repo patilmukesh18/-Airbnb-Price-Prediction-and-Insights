{
 "cells": [
  {
   "cell_type": "code",
   "execution_count": 1,
   "id": "8ca1dca4-8ad7-4a27-85ec-de7dc9d256ba",
   "metadata": {},
   "outputs": [],
   "source": [
    "import pandas as pd"
   ]
  },
  {
   "cell_type": "code",
   "execution_count": 3,
   "id": "8c1a4391-0712-4474-b719-06a410c74495",
   "metadata": {},
   "outputs": [],
   "source": [
    "df = pd.read_csv(\"Airbnb_data.csv\")"
   ]
  },
  {
   "cell_type": "code",
   "execution_count": 5,
   "id": "a76ef39c-8493-4f52-9ef6-18fb5421abc8",
   "metadata": {},
   "outputs": [
    {
     "data": {
      "text/plain": [
       "(74111, 29)"
      ]
     },
     "execution_count": 5,
     "metadata": {},
     "output_type": "execute_result"
    }
   ],
   "source": [
    "df.shape"
   ]
  },
  {
   "cell_type": "code",
   "execution_count": 7,
   "id": "8290de37-568c-483a-ab3f-2ba7ca3db67c",
   "metadata": {},
   "outputs": [
    {
     "name": "stdout",
     "output_type": "stream",
     "text": [
      "<class 'pandas.core.frame.DataFrame'>\n",
      "RangeIndex: 74111 entries, 0 to 74110\n",
      "Data columns (total 29 columns):\n",
      " #   Column                  Non-Null Count  Dtype  \n",
      "---  ------                  --------------  -----  \n",
      " 0   id                      74111 non-null  int64  \n",
      " 1   log_price               74111 non-null  float64\n",
      " 2   property_type           74111 non-null  object \n",
      " 3   room_type               74111 non-null  object \n",
      " 4   amenities               74111 non-null  object \n",
      " 5   accommodates            74111 non-null  int64  \n",
      " 6   bathrooms               73911 non-null  float64\n",
      " 7   bed_type                74111 non-null  object \n",
      " 8   cancellation_policy     74111 non-null  object \n",
      " 9   cleaning_fee            74111 non-null  bool   \n",
      " 10  city                    74111 non-null  object \n",
      " 11  description             74111 non-null  object \n",
      " 12  first_review            58247 non-null  object \n",
      " 13  host_has_profile_pic    73923 non-null  object \n",
      " 14  host_identity_verified  73923 non-null  object \n",
      " 15  host_response_rate      55812 non-null  object \n",
      " 16  host_since              73923 non-null  object \n",
      " 17  instant_bookable        74111 non-null  object \n",
      " 18  last_review             58284 non-null  object \n",
      " 19  latitude                74111 non-null  float64\n",
      " 20  longitude               74111 non-null  float64\n",
      " 21  name                    74111 non-null  object \n",
      " 22  neighbourhood           67239 non-null  object \n",
      " 23  number_of_reviews       74111 non-null  int64  \n",
      " 24  review_scores_rating    57389 non-null  float64\n",
      " 25  thumbnail_url           65895 non-null  object \n",
      " 26  zipcode                 73143 non-null  object \n",
      " 27  bedrooms                74020 non-null  float64\n",
      " 28  beds                    73980 non-null  float64\n",
      "dtypes: bool(1), float64(7), int64(3), object(18)\n",
      "memory usage: 15.9+ MB\n"
     ]
    }
   ],
   "source": [
    "df.info()"
   ]
  },
  {
   "cell_type": "code",
   "execution_count": 9,
   "id": "31b9d936-7c32-42d2-b4b3-9f914a996d87",
   "metadata": {
    "scrolled": true
   },
   "outputs": [
    {
     "name": "stdout",
     "output_type": "stream",
     "text": [
      "bathrooms                   200\n",
      "first_review              15864\n",
      "host_has_profile_pic        188\n",
      "host_identity_verified      188\n",
      "host_response_rate        18299\n",
      "host_since                  188\n",
      "last_review               15827\n",
      "neighbourhood              6872\n",
      "review_scores_rating      16722\n",
      "thumbnail_url              8216\n",
      "zipcode                     968\n",
      "bedrooms                     91\n",
      "beds                        131\n",
      "dtype: int64\n"
     ]
    }
   ],
   "source": [
    "# Missing values summary\n",
    "missing_values = df.isnull().sum()\n",
    "print(missing_values[missing_values > 0])"
   ]
  },
  {
   "cell_type": "code",
   "execution_count": 13,
   "id": "9711804f-ba8f-4a31-bf15-41a1f04c98af",
   "metadata": {
    "scrolled": true
   },
   "outputs": [
    {
     "name": "stdout",
     "output_type": "stream",
     "text": [
      "Index(['log_price', 'property_type', 'room_type', 'amenities', 'accommodates',\n",
      "       'bathrooms', 'bed_type', 'cancellation_policy', 'cleaning_fee', 'city',\n",
      "       'description', 'host_response_rate', 'instant_bookable', 'latitude',\n",
      "       'longitude', 'neighbourhood', 'number_of_reviews',\n",
      "       'review_scores_rating', 'zipcode', 'bedrooms', 'beds'],\n",
      "      dtype='object')\n"
     ]
    }
   ],
   "source": [
    "# Drop specified columns\n",
    "columns_to_drop = ['id', 'name', 'thumbnail_url','host_since','first_review', 'last_review', 'host_has_profile_pic', 'host_identity_verified']\n",
    "df = df.drop(columns=columns_to_drop, axis=1)\n",
    "\n",
    "# Verify the columns are removed\n",
    "print(df.columns)"
   ]
  },
  {
   "cell_type": "code",
   "execution_count": 15,
   "id": "be7d8cd3-95ea-4d52-8686-39c56d7f2090",
   "metadata": {
    "scrolled": true
   },
   "outputs": [
    {
     "name": "stdout",
     "output_type": "stream",
     "text": [
      "<class 'pandas.core.frame.DataFrame'>\n",
      "RangeIndex: 74111 entries, 0 to 74110\n",
      "Data columns (total 21 columns):\n",
      " #   Column                Non-Null Count  Dtype  \n",
      "---  ------                --------------  -----  \n",
      " 0   log_price             74111 non-null  float64\n",
      " 1   property_type         74111 non-null  object \n",
      " 2   room_type             74111 non-null  object \n",
      " 3   amenities             74111 non-null  object \n",
      " 4   accommodates          74111 non-null  int64  \n",
      " 5   bathrooms             73911 non-null  float64\n",
      " 6   bed_type              74111 non-null  object \n",
      " 7   cancellation_policy   74111 non-null  object \n",
      " 8   cleaning_fee          74111 non-null  bool   \n",
      " 9   city                  74111 non-null  object \n",
      " 10  description           74111 non-null  object \n",
      " 11  host_response_rate    55812 non-null  object \n",
      " 12  instant_bookable      74111 non-null  object \n",
      " 13  latitude              74111 non-null  float64\n",
      " 14  longitude             74111 non-null  float64\n",
      " 15  neighbourhood         67239 non-null  object \n",
      " 16  number_of_reviews     74111 non-null  int64  \n",
      " 17  review_scores_rating  57389 non-null  float64\n",
      " 18  zipcode               73143 non-null  object \n",
      " 19  bedrooms              74020 non-null  float64\n",
      " 20  beds                  73980 non-null  float64\n",
      "dtypes: bool(1), float64(7), int64(2), object(11)\n",
      "memory usage: 11.4+ MB\n"
     ]
    }
   ],
   "source": [
    "df.info()"
   ]
  },
  {
   "cell_type": "code",
   "execution_count": 17,
   "id": "4577ee29-0262-4f20-b56e-b76cc5c9b44f",
   "metadata": {},
   "outputs": [
    {
     "data": {
      "text/html": [
       "<div>\n",
       "<style scoped>\n",
       "    .dataframe tbody tr th:only-of-type {\n",
       "        vertical-align: middle;\n",
       "    }\n",
       "\n",
       "    .dataframe tbody tr th {\n",
       "        vertical-align: top;\n",
       "    }\n",
       "\n",
       "    .dataframe thead th {\n",
       "        text-align: right;\n",
       "    }\n",
       "</style>\n",
       "<table border=\"1\" class=\"dataframe\">\n",
       "  <thead>\n",
       "    <tr style=\"text-align: right;\">\n",
       "      <th></th>\n",
       "      <th>log_price</th>\n",
       "      <th>property_type</th>\n",
       "      <th>room_type</th>\n",
       "      <th>amenities</th>\n",
       "      <th>accommodates</th>\n",
       "      <th>bathrooms</th>\n",
       "      <th>bed_type</th>\n",
       "      <th>cancellation_policy</th>\n",
       "      <th>cleaning_fee</th>\n",
       "      <th>city</th>\n",
       "      <th>...</th>\n",
       "      <th>host_response_rate</th>\n",
       "      <th>instant_bookable</th>\n",
       "      <th>latitude</th>\n",
       "      <th>longitude</th>\n",
       "      <th>neighbourhood</th>\n",
       "      <th>number_of_reviews</th>\n",
       "      <th>review_scores_rating</th>\n",
       "      <th>zipcode</th>\n",
       "      <th>bedrooms</th>\n",
       "      <th>beds</th>\n",
       "    </tr>\n",
       "  </thead>\n",
       "  <tbody>\n",
       "    <tr>\n",
       "      <th>0</th>\n",
       "      <td>5.010635</td>\n",
       "      <td>Apartment</td>\n",
       "      <td>Entire home/apt</td>\n",
       "      <td>{\"Wireless Internet\",\"Air conditioning\",Kitche...</td>\n",
       "      <td>3</td>\n",
       "      <td>1.0</td>\n",
       "      <td>Real Bed</td>\n",
       "      <td>strict</td>\n",
       "      <td>True</td>\n",
       "      <td>NYC</td>\n",
       "      <td>...</td>\n",
       "      <td>NaN</td>\n",
       "      <td>f</td>\n",
       "      <td>40.696524</td>\n",
       "      <td>-73.991617</td>\n",
       "      <td>Brooklyn Heights</td>\n",
       "      <td>2</td>\n",
       "      <td>100.0</td>\n",
       "      <td>11201</td>\n",
       "      <td>1.0</td>\n",
       "      <td>1.0</td>\n",
       "    </tr>\n",
       "    <tr>\n",
       "      <th>1</th>\n",
       "      <td>5.129899</td>\n",
       "      <td>Apartment</td>\n",
       "      <td>Entire home/apt</td>\n",
       "      <td>{\"Wireless Internet\",\"Air conditioning\",Kitche...</td>\n",
       "      <td>7</td>\n",
       "      <td>1.0</td>\n",
       "      <td>Real Bed</td>\n",
       "      <td>strict</td>\n",
       "      <td>True</td>\n",
       "      <td>NYC</td>\n",
       "      <td>...</td>\n",
       "      <td>100%</td>\n",
       "      <td>t</td>\n",
       "      <td>40.766115</td>\n",
       "      <td>-73.989040</td>\n",
       "      <td>Hell's Kitchen</td>\n",
       "      <td>6</td>\n",
       "      <td>93.0</td>\n",
       "      <td>10019</td>\n",
       "      <td>3.0</td>\n",
       "      <td>3.0</td>\n",
       "    </tr>\n",
       "    <tr>\n",
       "      <th>2</th>\n",
       "      <td>4.976734</td>\n",
       "      <td>Apartment</td>\n",
       "      <td>Entire home/apt</td>\n",
       "      <td>{TV,\"Cable TV\",\"Wireless Internet\",\"Air condit...</td>\n",
       "      <td>5</td>\n",
       "      <td>1.0</td>\n",
       "      <td>Real Bed</td>\n",
       "      <td>moderate</td>\n",
       "      <td>True</td>\n",
       "      <td>NYC</td>\n",
       "      <td>...</td>\n",
       "      <td>100%</td>\n",
       "      <td>t</td>\n",
       "      <td>40.808110</td>\n",
       "      <td>-73.943756</td>\n",
       "      <td>Harlem</td>\n",
       "      <td>10</td>\n",
       "      <td>92.0</td>\n",
       "      <td>10027</td>\n",
       "      <td>1.0</td>\n",
       "      <td>3.0</td>\n",
       "    </tr>\n",
       "    <tr>\n",
       "      <th>3</th>\n",
       "      <td>6.620073</td>\n",
       "      <td>House</td>\n",
       "      <td>Entire home/apt</td>\n",
       "      <td>{TV,\"Cable TV\",Internet,\"Wireless Internet\",Ki...</td>\n",
       "      <td>4</td>\n",
       "      <td>1.0</td>\n",
       "      <td>Real Bed</td>\n",
       "      <td>flexible</td>\n",
       "      <td>True</td>\n",
       "      <td>SF</td>\n",
       "      <td>...</td>\n",
       "      <td>NaN</td>\n",
       "      <td>f</td>\n",
       "      <td>37.772004</td>\n",
       "      <td>-122.431619</td>\n",
       "      <td>Lower Haight</td>\n",
       "      <td>0</td>\n",
       "      <td>NaN</td>\n",
       "      <td>94117</td>\n",
       "      <td>2.0</td>\n",
       "      <td>2.0</td>\n",
       "    </tr>\n",
       "    <tr>\n",
       "      <th>4</th>\n",
       "      <td>4.744932</td>\n",
       "      <td>Apartment</td>\n",
       "      <td>Entire home/apt</td>\n",
       "      <td>{TV,Internet,\"Wireless Internet\",\"Air conditio...</td>\n",
       "      <td>2</td>\n",
       "      <td>1.0</td>\n",
       "      <td>Real Bed</td>\n",
       "      <td>moderate</td>\n",
       "      <td>True</td>\n",
       "      <td>DC</td>\n",
       "      <td>...</td>\n",
       "      <td>100%</td>\n",
       "      <td>t</td>\n",
       "      <td>38.925627</td>\n",
       "      <td>-77.034596</td>\n",
       "      <td>Columbia Heights</td>\n",
       "      <td>4</td>\n",
       "      <td>40.0</td>\n",
       "      <td>20009</td>\n",
       "      <td>0.0</td>\n",
       "      <td>1.0</td>\n",
       "    </tr>\n",
       "  </tbody>\n",
       "</table>\n",
       "<p>5 rows × 21 columns</p>\n",
       "</div>"
      ],
      "text/plain": [
       "   log_price property_type        room_type  \\\n",
       "0   5.010635     Apartment  Entire home/apt   \n",
       "1   5.129899     Apartment  Entire home/apt   \n",
       "2   4.976734     Apartment  Entire home/apt   \n",
       "3   6.620073         House  Entire home/apt   \n",
       "4   4.744932     Apartment  Entire home/apt   \n",
       "\n",
       "                                           amenities  accommodates  bathrooms  \\\n",
       "0  {\"Wireless Internet\",\"Air conditioning\",Kitche...             3        1.0   \n",
       "1  {\"Wireless Internet\",\"Air conditioning\",Kitche...             7        1.0   \n",
       "2  {TV,\"Cable TV\",\"Wireless Internet\",\"Air condit...             5        1.0   \n",
       "3  {TV,\"Cable TV\",Internet,\"Wireless Internet\",Ki...             4        1.0   \n",
       "4  {TV,Internet,\"Wireless Internet\",\"Air conditio...             2        1.0   \n",
       "\n",
       "   bed_type cancellation_policy  cleaning_fee city  ... host_response_rate  \\\n",
       "0  Real Bed              strict          True  NYC  ...                NaN   \n",
       "1  Real Bed              strict          True  NYC  ...               100%   \n",
       "2  Real Bed            moderate          True  NYC  ...               100%   \n",
       "3  Real Bed            flexible          True   SF  ...                NaN   \n",
       "4  Real Bed            moderate          True   DC  ...               100%   \n",
       "\n",
       "  instant_bookable   latitude   longitude     neighbourhood number_of_reviews  \\\n",
       "0                f  40.696524  -73.991617  Brooklyn Heights                 2   \n",
       "1                t  40.766115  -73.989040    Hell's Kitchen                 6   \n",
       "2                t  40.808110  -73.943756            Harlem                10   \n",
       "3                f  37.772004 -122.431619      Lower Haight                 0   \n",
       "4                t  38.925627  -77.034596  Columbia Heights                 4   \n",
       "\n",
       "   review_scores_rating  zipcode bedrooms  beds  \n",
       "0                 100.0    11201      1.0   1.0  \n",
       "1                  93.0    10019      3.0   3.0  \n",
       "2                  92.0    10027      1.0   3.0  \n",
       "3                   NaN    94117      2.0   2.0  \n",
       "4                  40.0    20009      0.0   1.0  \n",
       "\n",
       "[5 rows x 21 columns]"
      ]
     },
     "execution_count": 17,
     "metadata": {},
     "output_type": "execute_result"
    }
   ],
   "source": [
    "df.head()"
   ]
  },
  {
   "cell_type": "code",
   "execution_count": 38,
   "id": "ef7510d4-5c7d-447b-beb1-a782c274fbc3",
   "metadata": {},
   "outputs": [],
   "source": [
    "# Fill missing values\n",
    "df['bathrooms'] = df['bathrooms'].fillna(df['bathrooms'].median())\n",
    "df['review_scores_rating'] = df['review_scores_rating'].fillna(df['review_scores_rating'].median())"
   ]
  },
  {
   "cell_type": "code",
   "execution_count": 68,
   "id": "40bae43c-6fd8-4159-aa12-bff4d329a762",
   "metadata": {},
   "outputs": [
    {
     "data": {
      "text/plain": [
       "host_response_rate\n",
       "100%    43254\n",
       "90%      2277\n",
       "80%      1113\n",
       "0%        883\n",
       "50%       611\n",
       "        ...  \n",
       "39%         1\n",
       "15%         1\n",
       "31%         1\n",
       "21%         1\n",
       "6%          1\n",
       "Name: count, Length: 80, dtype: int64"
      ]
     },
     "execution_count": 68,
     "metadata": {},
     "output_type": "execute_result"
    }
   ],
   "source": [
    "df['host_response_rate'].value_counts()"
   ]
  },
  {
   "cell_type": "code",
   "execution_count": 46,
   "id": "bc614b0c-8e79-4fcc-80cf-2a2ae0ce96f6",
   "metadata": {},
   "outputs": [],
   "source": [
    "# Fill categorical columns with mode\n",
    "categorical_cols = ['neighbourhood', 'zipcode', 'host_has_profile_pic', 'host_identity_verified']\n",
    "for col in categorical_cols:\n",
    "    df[col] = df[col].fillna(df[col].mode()[0])"
   ]
  },
  {
   "cell_type": "code",
   "execution_count": 50,
   "id": "49e225a9-0366-4013-a7b5-98236a31f453",
   "metadata": {},
   "outputs": [],
   "source": [
    "# Drop rows with excessive missing data\n",
    "df = df.dropna(subset=['first_review', 'last_review'])"
   ]
  },
  {
   "cell_type": "code",
   "execution_count": 54,
   "id": "3e5ef595-0138-439f-b077-e80d2ddbfdd3",
   "metadata": {
    "scrolled": true
   },
   "outputs": [
    {
     "name": "stderr",
     "output_type": "stream",
     "text": [
      "C:\\Users\\mp394\\AppData\\Local\\Temp\\ipykernel_10848\\655823475.py:2: SettingWithCopyWarning: \n",
      "A value is trying to be set on a copy of a slice from a DataFrame.\n",
      "Try using .loc[row_indexer,col_indexer] = value instead\n",
      "\n",
      "See the caveats in the documentation: https://pandas.pydata.org/pandas-docs/stable/user_guide/indexing.html#returning-a-view-versus-a-copy\n",
      "  df['cleaning_fee'] = df['cleaning_fee'].astype(int)\n",
      "C:\\Users\\mp394\\AppData\\Local\\Temp\\ipykernel_10848\\655823475.py:3: SettingWithCopyWarning: \n",
      "A value is trying to be set on a copy of a slice from a DataFrame.\n",
      "Try using .loc[row_indexer,col_indexer] = value instead\n",
      "\n",
      "See the caveats in the documentation: https://pandas.pydata.org/pandas-docs/stable/user_guide/indexing.html#returning-a-view-versus-a-copy\n",
      "  df['instant_bookable'] = df['instant_bookable'].apply(lambda x: 1 if x == 't' else 0)\n"
     ]
    }
   ],
   "source": [
    "# Convert boolean-like columns\n",
    "df['cleaning_fee'] = df['cleaning_fee'].astype(int)\n",
    "df['instant_bookable'] = df['instant_bookable'].apply(lambda x: 1 if x == 't' else 0)"
   ]
  },
  {
   "cell_type": "code",
   "execution_count": 11,
   "id": "2faea68b-ebbd-4289-b6df-1d0d68d4d4ec",
   "metadata": {
    "scrolled": true
   },
   "outputs": [
    {
     "data": {
      "text/plain": [
       "0        26-03-2012\n",
       "1        19-06-2017\n",
       "2        25-10-2016\n",
       "3        19-04-2015\n",
       "4        01-03-2015\n",
       "            ...    \n",
       "74106    24-03-2013\n",
       "74107    03-05-2016\n",
       "74108    05-01-2012\n",
       "74109    17-09-2017\n",
       "74110    26-11-2012\n",
       "Name: host_since, Length: 74111, dtype: object"
      ]
     },
     "execution_count": 11,
     "metadata": {},
     "output_type": "execute_result"
    }
   ],
   "source": [
    "df['host_since']"
   ]
  },
  {
   "cell_type": "code",
   "execution_count": 1,
   "id": "43d13e39-2771-4164-9912-4fb3d42a4bd7",
   "metadata": {},
   "outputs": [],
   "source": [
    "#all columns name"
   ]
  },
  {
   "cell_type": "code",
   "execution_count": null,
   "id": "cec576b6-e9f7-45e9-a981-fe4e5b1b05ba",
   "metadata": {},
   "outputs": [],
   "source": []
  },
  {
   "cell_type": "code",
   "execution_count": null,
   "id": "348a05cd-d3bb-45a6-80f4-b3c40604812b",
   "metadata": {},
   "outputs": [],
   "source": []
  },
  {
   "cell_type": "code",
   "execution_count": null,
   "id": "2d18ef79-2e18-4728-910a-5adb923a5464",
   "metadata": {},
   "outputs": [],
   "source": []
  }
 ],
 "metadata": {
  "kernelspec": {
   "display_name": "Python 3 (ipykernel)",
   "language": "python",
   "name": "python3"
  },
  "language_info": {
   "codemirror_mode": {
    "name": "ipython",
    "version": 3
   },
   "file_extension": ".py",
   "mimetype": "text/x-python",
   "name": "python",
   "nbconvert_exporter": "python",
   "pygments_lexer": "ipython3",
   "version": "3.12.7"
  }
 },
 "nbformat": 4,
 "nbformat_minor": 5
}
